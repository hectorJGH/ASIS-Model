{
  "cells": [
    {
      "cell_type": "markdown",
      "source": [
        "# Overview\n",
        "\n",
        "*Adaptie SIS Model Simulation (faster)*\n",
        "\n",
        "The notebook implements an adaptive SIS (Susceptible-Infected-Susceptible) model on a complex network. The network structure evolves over time, where susceptible nodes only reconnect to susceptible nodes they previously met. The code simulates disease transmission, recovery, and network evolution.\n",
        "\n",
        "**Key Features:**\n",
        "- Dynamic reconnections based on disease status.\n",
        "- Monte Carlo simulation for epidemic modeling.\n",
        "- Visualizations of epidemic statistics (characteristic lifetime, metastable prevalence of infected).\n",
        "\n",
        "\n",
        "\n"
      ],
      "metadata": {
        "id": "nWfXS67NUzDF"
      }
    },
    {
      "cell_type": "markdown",
      "source": [
        "# How to use (Recommended version)\n",
        "\n",
        "Set the parameters you want in \"Parameter section\". Also set the parameters at the beggining of the MAIN you want to use. The main will run the simulation. The main figures are in the following cells.\n",
        "\n",
        "If you want to save the figures, replace a valid directory in the line directorio = '/set one valid directory/' in the section Drive Folder Connection. Then set save=True in their arguments.\n",
        "\n",
        "ATTENTION. This code could have issues in some computers. Avoid doing anything else while the program is running. If you are using the computers on the physics room, it has be tested in number 2. Number 6 has issues with memory usage."
      ],
      "metadata": {
        "id": "2xQYzmbGgjQE"
      }
    },
    {
      "cell_type": "markdown",
      "source": [
        "# Libraries"
      ],
      "metadata": {
        "id": "pT0LgbRmpBpJ"
      }
    },
    {
      "cell_type": "code",
      "execution_count": null,
      "metadata": {
        "id": "N62NjG41dSnt"
      },
      "outputs": [],
      "source": [
        "# Use this in the terminal if you don't have anyone\n",
        "#pip install networkx[default]\n",
        "#pip install joblib\n",
        "#pip install gc"
      ]
    },
    {
      "cell_type": "code",
      "execution_count": null,
      "metadata": {
        "id": "v6q1rQqzT4UF"
      },
      "outputs": [],
      "source": [
        "import networkx as nx\n",
        "import numpy as np\n",
        "from scipy import stats\n",
        "from scipy.stats import linregress\n",
        "import matplotlib.pyplot as plt\n",
        "from matplotlib.colors import LinearSegmentedColormap\n",
        "from joblib import Parallel, delayed"
      ]
    },
    {
      "cell_type": "markdown",
      "metadata": {
        "id": "d7E6hdDZffLb"
      },
      "source": [
        "## Directory\n",
        "\n",
        "Set the directory to save figures."
      ]
    },
    {
      "cell_type": "code",
      "execution_count": null,
      "metadata": {
        "id": "MgmzmyODfdXs"
      },
      "outputs": [],
      "source": [
        "#If you run in colab (remember Free Colab just have 2 threads available)\n",
        "#from google.colab import drive\n",
        "#drive.mount('/gdrive')\n",
        "#%cd /gdrive"
      ]
    },
    {
      "cell_type": "code",
      "execution_count": null,
      "metadata": {
        "id": "v6UUV-SA1HGR"
      },
      "outputs": [],
      "source": [
        "# Replace with one valid directory/\n",
        "\n",
        "directorio = '/set one valid directory/'"
      ]
    },
    {
      "cell_type": "code",
      "execution_count": null,
      "metadata": {
        "id": "PsEsLM-KdbMs"
      },
      "outputs": [],
      "source": [
        "import datetime\n",
        "NOW = datetime.datetime.now()\n",
        "MINUTE = NOW.minute\n",
        "HOUR = NOW.hour\n",
        "DAY = NOW.day"
      ]
    },
    {
      "cell_type": "markdown",
      "metadata": {
        "id": "Z00feGMWZwYo"
      },
      "source": [
        "# Graph Initialization\n",
        "\n",
        "initialize_graph( N,k,p_ws,infect_percent,seed_G)"
      ]
    },
    {
      "cell_type": "code",
      "execution_count": null,
      "metadata": {
        "id": "KiBzhCAAXZBw"
      },
      "outputs": [],
      "source": [
        "'''\n",
        "  Al llamarse se inicializa el grafo de Watts Strogatz, así como otros\n",
        "elementos importantes para el programa\n",
        "  G_base := grafo inicial, no cambia durante el programa\n",
        "  G := el grafo principal\n",
        "  status := Estados de los nodos\n",
        "  new_status := auxiliar de status\n",
        "  pos = guarda las posiciones de los nodos en el plotting\n",
        "\n",
        "'''\n",
        "def initialize_graph( N,k,p_ws,infect_percent,seed_G):\n",
        "  global pos\n",
        "  # Inicializar un grafo y una copia con networkx\n",
        "  G = nx.watts_strogatz_graph(N, k, p_ws, seed=seed_G)\n",
        "  G_base = G.copy()\n",
        "  # Estado inicial de los nodos: 0 = susceptible, 1 = infectado\n",
        "  status = np.zeros(N)\n",
        "  initial_infected = np.random.choice(N, size=int(N*infect_percent),\n",
        "                                      replace=False)\n",
        "  #print(np.sort(initial_infected))\n",
        "  status[initial_infected] = 1\n",
        "\n",
        "  # Initialize positions\n",
        "  pos = nx.spring_layout(G, seed=1)\n",
        "  return G, G_base, status"
      ]
    },
    {
      "cell_type": "markdown",
      "metadata": {
        "id": "6RClyNQMPdNi"
      },
      "source": [
        "# Draw\n",
        "\n",
        "Draw the graphs and makes a video for one run of the evolution of the system.\n",
        "\n",
        "draw( G, status, step)"
      ]
    },
    {
      "cell_type": "code",
      "execution_count": null,
      "metadata": {
        "id": "K6TThGLyjNMI"
      },
      "outputs": [],
      "source": [
        "'''\n",
        "   Dibuja el grafo en un tiempo t\n",
        "'''\n",
        "def draw( G, status, step):\n",
        "  # Colorear los nodos según su estado inicial\n",
        "  node_colors = ['red' if status[node] == 1 else 'green' for node in G.nodes]\n",
        "  # Dibujar el grafo con los nodos coloreados\n",
        "  nx.draw(G, pos=pos, node_color=node_colors, with_labels=True)\n",
        "  # Add title to the figure\n",
        "  plt.title(f\"Graph Evolution: step = {step+1}\")\n",
        "  plt.show()"
      ]
    },
    {
      "cell_type": "markdown",
      "metadata": {
        "id": "s7UJsFJ1ANAh"
      },
      "source": [
        "# Evolution step\n",
        "\n",
        "evolution_step(G, G_base, status,random_array):"
      ]
    },
    {
      "cell_type": "code",
      "execution_count": null,
      "metadata": {
        "id": "g5AH5BVcmWa0"
      },
      "outputs": [],
      "source": [
        "'''\n",
        "  Un paso en el tiempo de la simulación\n",
        "'''\n",
        "def evolution_step(G, G_base, status,random_array,rand_idx):\n",
        "    new_status = status.copy()\n",
        "    nodes = list(G.nodes)\n",
        "    for i in nodes:\n",
        "        ## Recovery with numpy where (soon)\n",
        "\n",
        "        if status[i] == 1:  # Infected\n",
        "            # Recovery\n",
        "            if random_array[rand_idx] < p_recov:\n",
        "                new_status[i] = 0\n",
        "            rand_idx+=1\n",
        "\n",
        "            neighbors = list(G.neighbors(i))\n",
        "            # Disease transmission\n",
        "            for neighbor in neighbors:\n",
        "                if status[neighbor] == 0:\n",
        "                    if random_array[rand_idx] < p_inf:\n",
        "                        new_status[neighbor] = 1\n",
        "                    rand_idx+=1\n",
        "                    if random_array[rand_idx] < p_break:\n",
        "                        G.remove_edge(i, neighbor)\n",
        "                    rand_idx+=1\n",
        "\n",
        "        else:  # Susceptible\n",
        "            # Link creation (S-S links only)\n",
        "            potential_neighbors = set(G_base.neighbors(i)) - set(G.neighbors(i))\n",
        "            for neighbor in potential_neighbors:\n",
        "                if status[neighbor] == 0 and random_array[rand_idx] < p_create:\n",
        "                    G.add_edge(i, neighbor)\n",
        "                rand_idx+=1\n",
        "\n",
        "    return G, new_status,rand_idx"
      ]
    },
    {
      "cell_type": "markdown",
      "metadata": {
        "id": "7x7H5Lq3QmP6"
      },
      "source": [
        "# Infected vs time\n",
        "\n",
        "save_infected(infected_in_time, status, step)\n",
        "\n",
        "average_infected_in_steps(infected_in_time, av_steps)\n",
        "\n",
        "plot_infected(infected_in_time, averaging_steps = 1, seeds = 1)"
      ]
    },
    {
      "cell_type": "code",
      "execution_count": null,
      "metadata": {
        "id": "40EahFDWQjy4"
      },
      "outputs": [],
      "source": [
        "## BORRAR abajo\n",
        "'''\n",
        "def initialize_plot():\n",
        "  global infected_in_time, num_edges, steps\n",
        "  infected_in_time = np.zeros(steps)\n",
        "  num_edges = np.zeros(steps)\n",
        "'''\n",
        "\n",
        "def save_infected(infected_in_time, status, step):\n",
        "  #global status, infected_in_time, num_edges\n",
        "  infected_in_time[step] = np.sum(status)/N\n",
        "  #num_edges[step] = G.number_of_edges()/(N*k/2) #(N*k/2) is the initial num of edges\n",
        "\n",
        "def average_infected_in_steps(infected_in_time, av_steps):\n",
        "    steps = len(infected_in_time)\n",
        "    inf_aux = np.zeros(steps-av_steps+1)\n",
        "\n",
        "    for step in range(steps-av_steps+1):\n",
        "        inf_aux[step] = np.sum(infected_in_time[step:step+av_steps])\n",
        "    inf_aux = inf_aux / av_steps\n",
        "\n",
        "    return inf_aux\n",
        "\n",
        "def plot_infected(infected_in_time, averaging_steps = 1, seeds = 1):\n",
        "  if averaging_steps > 1:\n",
        "    infected_in_time = average_infected_in_steps(infected_in_time, averaging_steps)\n",
        "\n",
        "  size_x = len(infected_in_time)\n",
        "  X = np.arange(size_x)\n",
        "\n",
        "  # Create figure and axis objects\n",
        "  fig1, ax1 = plt.subplots()\n",
        "\n",
        "  # Plot the first line\n",
        "  color='tab:red'\n",
        "  ax1.set_xlabel('Step')\n",
        "  ax1.set_ylabel('Fraction of infected', color=color)\n",
        "  ax1.plot(X, infected_in_time, color=color, label='Infected [I]')\n",
        "  ax1.tick_params(axis='y', labelcolor=color)\n",
        "  #plt.title(f'N = {N}, k = {k}, tau = {p_inf/p_recov}, omega = {p_create/p_break},\\n averaged over {seeds} seeds and {averaging_steps} steps')\n",
        "  plt.title(f'N = {N}, k = {k}, tau = {(p_inf/p_recov):.2f}, omega = {(p_create/p_break):.2f}' +\n",
        "          (f'\\n averaged over {seeds} seeds' if seeds > 1 else '') +\n",
        "          (f'\\n averaged over {averaging_steps} steps' if averaging_steps > 1 else ''))\n",
        "\n",
        "  plt.show()\n"
      ]
    },
    {
      "cell_type": "markdown",
      "metadata": {
        "id": "qpznx4yJXa_n"
      },
      "source": [
        "# Parameters\n",
        "\n",
        "Model and network parameters"
      ]
    },
    {
      "cell_type": "code",
      "execution_count": null,
      "metadata": {
        "id": "-8uTlMS1vYaf"
      },
      "outputs": [],
      "source": [
        "### PARÁMETROS DEL MODELO\n",
        "\n",
        "p_inf = 0.2 #Probabilidad de infectarse (S->I)\n",
        "p_recov = 0.2 #Probabilidad de recuperarse (I->S)\n",
        "p_break = 0.2 #Propabilidad de desconexion\n",
        "p_create = 0.2 #Probabilidad de creacion\n",
        "\n",
        "### PARÁMETROS DE RED\n",
        "\n",
        "N = 20     #N:Nodos\n",
        "k = 8      #k:Grado promedio\n",
        "p_ws = 0.2  #p: probabilidad de watts-strogats\n",
        "\n",
        "infect_percent = 0.5 #Infectados iniciales\n",
        "\n",
        "### PLOT IN TIME\n",
        "\n",
        "### VIDEO\n",
        "fps = 2  # Frames per second"
      ]
    },
    {
      "cell_type": "markdown",
      "metadata": {
        "id": "8DfCf22a1T40"
      },
      "source": [
        "# About Prevalence\n",
        "\n",
        "Functions to calculate the prevalence of infected nodes and plot\n",
        "\n",
        "\n",
        "```\n",
        "find_prevalence(infected_just_endemic, n_endemic_states, seeds, min_fraction=0.7, plot=False, save=False)\n",
        "\n",
        "prevalence_vs_tau(prevalence, tau, std = None, omega=p_break/p_create)\n",
        "```"
      ]
    },
    {
      "cell_type": "code",
      "execution_count": null,
      "metadata": {
        "id": "DsoYyZ_00Z7A"
      },
      "outputs": [],
      "source": [
        "#Prevalencia de infectados\n",
        "\n",
        "def find_prevalence(infected_just_endemic, n_endemic_states, seeds, min_fraction=0.3, m_loc_min=3, omega=-1, tau = -1, plot=False, save=False):\n",
        "  '''Returns the mean of infected and standar deviation of infected\n",
        "  where there is still more than 0.7 states in infected season'''\n",
        "  #step_of_healty = np.argmax(infected_in_time == 0)\n",
        "  # First a pre- prevalence\n",
        "  infected_to_analyse = infected_just_endemic[n_endemic_states>min_fraction]\n",
        "  mean_infected = np.mean(infected_to_analyse)\n",
        "  std_dev_infected = np.std(infected_to_analyse)\n",
        "\n",
        "  # This section avoid to analyse the non-metaestable part at the beginning\n",
        "  first_idx = np.where(infected_to_analyse<mean_infected)[0][0]\n",
        "  preva_infected_to_analyse = infected_to_analyse[first_idx:]\n",
        "\n",
        "\n",
        "\n",
        "  # This section try to solve some issues with small taus, finding a lm_idx local minima,\n",
        "  # and ignoring infected before this one\n",
        "  local_minima_indices = (np.diff(np.sign(np.diff(preva_infected_to_analyse))) > 0).nonzero()[0] + 1\n",
        "\n",
        "  if len(local_minima_indices) > m_loc_min:\n",
        "    lm_idx = local_minima_indices[m_loc_min]\n",
        "  else:\n",
        "    for i in range(10):\n",
        "      min_fraction = 0.5*min_fraction\n",
        "      infected_to_analyse = infected_just_endemic[n_endemic_states>min_fraction]\n",
        "      preva_infected_to_analyse = infected_to_analyse[first_idx:]\n",
        "      local_minima_indices = (np.diff(np.sign(np.diff(preva_infected_to_analyse))) > 0).nonzero()[0] + 1\n",
        "      if len(local_minima_indices) > m_loc_min:\n",
        "        lm_idx = local_minima_indices[m_loc_min]\n",
        "        break\n",
        "      else:\n",
        "        lm_idx = len(preva_infected_to_analyse)-3\n",
        "  mean_infected = np.mean(preva_infected_to_analyse[lm_idx:])\n",
        "  std_dev_infected = np.std(preva_infected_to_analyse[first_idx:])\n",
        "\n",
        "\n",
        "  # Figure\n",
        "  if plot or save:\n",
        "    size_x = len(infected_to_analyse)\n",
        "    X = np.arange(size_x)\n",
        "    plt.plot(X, infected_to_analyse, label=f'Infected Mean over {seeds} seeds', color='tab:blue', zorder=1)\n",
        "    vec_prevalence = np.full( size_x, mean_infected)\n",
        "    plt.plot(X, vec_prevalence, color='red', label='Prevalence', linestyle='--', zorder=3)\n",
        "    vec_std = np.full(size_x, std_dev_infected)\n",
        "    plt.fill_between(X, vec_prevalence - vec_std, vec_prevalence + vec_std, color='red', alpha=0.2, label='Standard Deviation', zorder=2)\n",
        "    plt.legend()\n",
        "    plt.xlabel('Steps')\n",
        "    plt.ylabel('Fraction of infected')\n",
        "    plt.title(f'Prevalence for ' + r'$\\tau$ = '+ f'{tau:.2f} and '+ r'$\\omega$ = '+f'{omega:.2f} \\n N = {N}, k = {k}, seeds = {seeds}')\n",
        "    plt.grid(True)\n",
        "    if save: plt.savefig(directorio + f'Prevalence tau = {tau:.2f} omega = {omega:.2f} seeds = {seeds} fecha-{DAY}-{HOUR}:{MINUTE}.png')\n",
        "    if plot:\n",
        "      plt.show()\n",
        "  return mean_infected, std_dev_infected\n",
        "\n",
        "\n",
        "def prevalence_vs_tau(prevalence, tau, std = None, omega=p_break/p_create, seeds = None, steps=None, save= False):\n",
        "  plt.plot(tau, prevalence, marker='o', linestyle='-', label='Prevalence', color='tab:red')\n",
        "  if isinstance(std, np.ndarray):\n",
        "    plt.fill_between(tau, prevalence - std, prevalence + std, alpha=0.2,label='Standard Deviation', color='tab:red')\n",
        "  plt.legend()\n",
        "  plt.xlabel(r'Effective infection rate $\\tau$')\n",
        "  plt.ylabel('Prevalence of infected')\n",
        "  plt.title(r'Prevalence vs $\\tau$'+ '\\n ' + f'N = {N}, k = {k},' +r' $\\omega$ = '+f'{omega:.2f}' +(f',\\n seeds = {seeds}' if seeds else '')+(f', steps = {steps}' if steps else ''))\n",
        "  if save: plt.savefig(directorio + f'Prevalence vs Tau omega = {omega:.2f} N = {N} k = {k} seeds = {seeds} fecha-{DAY}-{HOUR}:{MINUTE}.png')\n",
        "  plt.show()\n",
        "\n",
        "#Plot prevalence vs Tau per omega\n",
        "def plot_prevalence_vs_tau(taus, prevalence_per_omega, std_prevalence_per_omega, seeds=None, save=False):\n",
        "   # Normal plot\n",
        "    #plt.figure(figsize=(10, 6))\n",
        "    for omega in prevalence_per_omega.keys():\n",
        "        plt.errorbar(taus, prevalence_per_omega[omega], yerr=std_prevalence_per_omega[omega],\n",
        "                     label=r' $\\omega$ = ' + f'{omega:.2f}'+(' (SIS)' if omega==0 else ''), marker='o',markerfacecolor='none')\n",
        "    # Axis labels with LaTeX formatting\n",
        "    plt.xlabel(r'Effective infection rate $\\tau$', fontsize=10.5)\n",
        "    plt.ylabel('Prevalence of Infected', fontsize=10.5)\n",
        "\n",
        "    # Title with network parameters\n",
        "\n",
        "    plt.title(r'$\\bf{Prevalence\\ of\\ Infected\\ vs.\\ }\\tau$' + '\\n' +\n",
        "          f'N = {N}, k = {k}' + (f', seeds = {seeds}' if seeds else '') +\n",
        "        (f', steps = {steps}' if steps else ''), fontsize=13)\n",
        "    plt.legend()\n",
        "    plt.grid(True)\n",
        "    if save: plt.savefig(directorio + f'Prevalence vs Tau per Omega k = {k} seeds = {n_seeds} p_r = {p_recov} p_c = {p_create} fecha-{DAY}-{HOUR}:{MINUTE}.png')\n",
        "    plt.show()\n",
        "\n",
        "    # Semilog plot\n",
        "    #plt.figure(figsize=(10, 6))\n",
        "    for omega in prevalence_per_omega.keys():\n",
        "        plt.errorbar(taus, prevalence_per_omega[omega], yerr=std_prevalence_per_omega[omega],\n",
        "                     label=r' $\\omega$ = ' + f'{omega:.2f}'+(' (SIS)' if omega==0 else ''), marker='o',markerfacecolor='none')\n",
        "    # Axis labels with LaTeX formatting\n",
        "    plt.xlabel(r'Effective infection rate $\\tau$', fontsize=10.5)\n",
        "    plt.ylabel('Prevalence of Infected', fontsize=10.5)\n",
        "\n",
        "    # Title with network parameters\n",
        "    plt.title(r'$\\bf{Prevalence\\ of\\ Infected\\ vs.\\ }\\tau$' + '\\n' +\n",
        "          f'N = {N}, k = {k}' + (f', seeds = {seeds}' if seeds else '') +\n",
        "        (f', steps = {steps}' if steps else ''), fontsize=13)\n",
        "\n",
        "    # Set y-axis to logarithmic scale\n",
        "    plt.yscale('log')\n",
        "\n",
        "    plt.legend()\n",
        "    plt.grid(True)\n",
        "    if save: plt.savefig(directorio + f'Prevalence vs Tau per Omega Semilog k = {k} seeds = {n_seeds} p_r = {p_recov} p_c = {p_create} fecha-{DAY}-{HOUR}:{MINUTE}.png')\n",
        "    plt.show()\n",
        "\n",
        "\n"
      ]
    },
    {
      "cell_type": "markdown",
      "metadata": {
        "id": "yN-DFusapAst"
      },
      "source": [
        "# About Life time\n",
        "\n",
        "Functions to calculate the Characteristic Lifetime and plot related figures\n",
        "\n",
        "```\n",
        "step_healty(infected_in_time)\n",
        "\n",
        "endemic_vs_time(life_time, steps, n_seeds, plot=False)\n",
        "\n",
        "calculate_average_lifetime(n_endemic_states, start=None, end=None, plot=True, save=False)\n",
        "```\n"
      ]
    },
    {
      "cell_type": "code",
      "execution_count": null,
      "metadata": {
        "id": "f5KS8F5HiTc9"
      },
      "outputs": [],
      "source": [
        "def step_healty(infected_in_time):\n",
        "  '''Returns the first step of healty state. Returns steps+1 if still endemic '''\n",
        "  step_of_healty = np.argmax(infected_in_time == 0)\n",
        "  if step_of_healty==0 and infected_in_time[-1]>0: #just in case the endemic state continues\n",
        "    step_of_healty = len(infected_in_time) + 1\n",
        "  return step_of_healty\n",
        "''' infected_in_time==0 is a boolean array, argmax takes the first index when this\n",
        "array is a maximum, in this case, when infected_in_time==0 takes the value 1 '''\n",
        "\n",
        "\n",
        "def endemic_vs_time(life_time, steps, seeds, plot=False,save=False, tau = p_inf/p_recov, omega = p_break/p_create):\n",
        "  fraction_of_endemic = np.zeros(steps)\n",
        "  for step in range(steps):\n",
        "    #print(np.sum(life_time > step))\n",
        "    fraction_of_endemic[step] = np.sum(life_time > step)/n_seeds\n",
        "  if plot or save:\n",
        "    plt.plot(np.arange(steps),fraction_of_endemic)\n",
        "    #plt.title(f'Endemic states lifetime = {average_lifetime:.2f} steps\\n'+\n",
        "    #   (f'tau = {tau:.2f}' if tau else '')+(f', omega = {omega:.2f}' if omega else '')+\n",
        "    #    f', N = {N}, k = {k}'+(f', seeds = {seeds}' if seeds else ''))\n",
        "    plt.title(f'Endemic fraction vs time \\n'+\n",
        "       (f'tau = {tau:.2f}' if tau else '')+(f', omega = {omega:.2f}' if omega else '')+\n",
        "        f', N = {N}, k = {k}'+(f', seeds = {seeds}' if seeds else ''))\n",
        "    plt.xlabel('Steps')\n",
        "    plt.ylabel('Fraction of Endemic States')\n",
        "    plt.legend()\n",
        "    if save: plt.savefig(directorio + f'endemic fraction vs time'+(f' tau = {tau:.2f}' if tau else '')+\n",
        "     (f' omega = {omega:.2f}' if omega else '')+(f' seeds = {seeds}' if seeds else '')+f' fecha-{DAY}-{HOUR}:{MINUTE}.png')\n",
        "    if plot:\n",
        "      plt.show()\n",
        "  return fraction_of_endemic\n",
        "\n",
        "def calculate_average_lifetime(n_endemic_states, start=None, end=None, plot=False, save=False, tau = -1, omega = -1, seeds = None ):\n",
        "    \"\"\"\n",
        "    Calculate the average lifetime of a disease from the semilog graph.\n",
        "\n",
        "    Parameters:\n",
        "    - endemic_states: Array of the fraction of endemic states over time\n",
        "    - start: Start index of the linear region for the fit (default is 0)\n",
        "    - end: End index of the linear region for the fit (default is step)\n",
        "\n",
        "    Returns:\n",
        "    - average_lifetime: The calculated average lifetime of the disease\n",
        "    \"\"\"\n",
        "    if start is None:\n",
        "        start = 0  # Default start is the first index\n",
        "    if end is None:\n",
        "        end = len(n_endemic_states)  # Default end is the last index\n",
        "    # Fit a line to the log of the endemic states in the exponential decay region\n",
        "    XX = np.arange(start, end)\n",
        "    endemic_states_section = n_endemic_states[start:end]\n",
        "    valid_indices = endemic_states_section > 0  # Identify positive values\n",
        "    XX = XX[valid_indices]\n",
        "    #print(XX)\n",
        "    log_endemic_states = np.log(endemic_states_section[valid_indices])\n",
        "    #log_endemic_states = np.log(endemic_states[start:end])\n",
        "\n",
        "\n",
        "    # Perform linear regression\n",
        "    slope, intercept, r_value, p_value, std_err = linregress(XX, log_endemic_states)\n",
        "\n",
        "    # Calculate the average lifetime\n",
        "    average_lifetime = -1 / slope\n",
        "\n",
        "    # Plotting with the linear fit\n",
        "    if plot or save:\n",
        "      plt.plot(np.arange(len(n_endemic_states)), n_endemic_states, label='Data')\n",
        "      plt.plot(XX, np.exp(slope * XX + intercept), label='Linear Fit', linestyle='--')\n",
        "      plt.yscale('log')\n",
        "      plt.xlim(0, 60)\n",
        "      plt.ylim(0, 2)\n",
        "      plt.title(f'Endemic states with lifetime = {average_lifetime:.2f} steps\\n'+\n",
        "       (r'$\\tau$ = '+f'{tau}' if tau else '')+(r', $\\omega$ = '+f'{omega}' if omega else '')+\n",
        "        f', N = {N}, k = {k}'+(f', seeds = {seeds}' if seeds else ''))\n",
        "      plt.xlabel('Steps')\n",
        "      plt.ylabel('Fraction of Endemic States')\n",
        "      plt.legend()\n",
        "      plt.grid(True)\n",
        "      if save: plt.savefig(directorio + f's-log_endemic_'+(f'_tau:{int(tau*10)}' if tau else '')+\n",
        "       (f'_ome:{omega}' if omega else '')+(f'_seeds:{seeds}' if seeds else '')+f'__fecha-{DAY}-{HOUR}:{MINUTE}.png')\n",
        "      if plot:\n",
        "        plt.show()\n",
        "        #print(f\"Average Lifetime of Disease: {average_lifetime:.2f} time steps\")\n",
        "\n",
        "    return average_lifetime\n",
        "\n",
        "def mean_life_time_vs_time(taus, average_lifetimes, seeds=None, omega = p_break/p_create):\n",
        "  plt.plot(taus, average_lifetimes, marker = 'o', linestyle='-', label='Characteristic Lifetime', color='tab:blue')\n",
        "  plt.xlabel(r'Effective infection rate $\\tau$')\n",
        "  plt.ylabel('Characteristic Lifetime (Steps)')\n",
        "  plt.title('Characteristic Lifetime vs. '+ r'$\\tau$'+ '\\n'+ f'N = {N}, k = {k},'+ r' $\\omega$ = '+f'{omega:.2f}'+(f', seeds = {seeds}' if seeds else ''))\n",
        "  plt.yscale('log')\n",
        "  plt.show()\n",
        "\n",
        "  plt.plot(taus, average_lifetimes, marker = 'o', linestyle='-', label='Average Lifetime', color='tab:blue')\n",
        "  plt.xlabel(r'Effective infection rate $\\tau$')\n",
        "  plt.ylabel('Characteristic Lifetime (Steps)')\n",
        "  plt.title('Characteristic Lifetime vs. '+ r'$\\tau$'+ '\\n'+ f'N = {N}, k = {k},'+ r' $\\omega$ = '+f'{omega:.2f}'+(f', seeds = {seeds}' if seeds else ''))\n",
        "  plt.show()\n",
        "\n",
        "#Plot average lifetime vs tau per omega\n",
        "def plot_average_lifetime_vs_tau(tau_values, average_lifetime_per_omega, seeds=None, save=False):\n",
        "    \"\"\"\n",
        "    Function to plot average_lifetime vs. tau for different omega values.\n",
        "\n",
        "    Parameters:\n",
        "    - tau_values: List of tau values.\n",
        "    - avg_lifetime_per_omega: Dictionary of lists of average lifetimes per omega.\n",
        "    \"\"\"\n",
        "    #plt.figure(figsize=(10, 6))\n",
        "\n",
        "    # Plotting each line for different omega values\n",
        "    for omega, average_lifetime in average_lifetime_per_omega.items():\n",
        "        inf_indx = len(tau_values)\n",
        "        if np.isinf(average_lifetime[-1]):\n",
        "          inf_indx = np.where(np.isinf(average_lifetime))[0][0]\n",
        "        plt.plot(tau_values[:inf_indx], average_lifetime[:inf_indx], label=r' $\\omega$ = '+f'{omega:.2f}'+(' (SIS)' if omega==0 else ''), marker='o', markerfacecolor='none')\n",
        "        #plt.plot(tau_values, average_lifetime, label=r' $\\omega$ = '+f'{omega:.2f}', marker='o', markerfacecolor='none')\n",
        "    #Normal plot\n",
        "    plt.xlabel(r'Effective infection rate $\\tau$', fontsize=10.5)\n",
        "    plt.ylabel('Characteristic Lifetime (Steps)', fontsize=10.5)\n",
        "    #Title\n",
        "    plt.title(r'$\\bf{Characteristic\\ Lifetime\\ vs.\\ } \\tau$' + '\\n' +\n",
        "              f'N = {N}, k = {k}' + (f', seeds = {n_seeds}' if seeds else '') +(f', steps = {steps}'))\n",
        "    plt.legend()\n",
        "    plt.grid(True)\n",
        "    if save: plt.savefig(directorio + f'Characteristic Lifetime vs Tau k = {k} seeds = {n_seeds} p_r = {p_recov} p_c = {p_create} fecha-{DAY}-{HOUR}:{MINUTE}.png')\n",
        "    plt.show()\n",
        "    for omega, average_lifetime in average_lifetime_per_omega.items():\n",
        "        inf_indx = len(tau_values)\n",
        "        if np.isinf(average_lifetime[-1]):\n",
        "          inf_indx = np.where(np.isinf(average_lifetime))[0][0]\n",
        "        plt.plot(tau_values[:inf_indx], average_lifetime[:inf_indx], label=r' $\\omega$ = '+f'{omega:.2f}'+(' (SIS)' if omega==0 else ''), marker='o', markerfacecolor='none')\n",
        "    #Semilog plot\n",
        "    plt.xlabel(r'Effective infection rate $\\tau$', fontsize = 10.5)\n",
        "    plt.ylabel('Characteristic Lifetime (Steps)', fontsize = 10.5)\n",
        "    #Title\n",
        "    plt.title(r'$\\bf{Characteristic\\ Lifetime\\ vs.\\ } \\tau$' + '\\n' + f'N = {N}, k = {k}' + (f', seeds = {n_seeds}' if seeds else '') +(f', steps = {steps}'))\n",
        "    plt.yscale('log')\n",
        "    plt.legend()\n",
        "    plt.grid(True)\n",
        "    if save: plt.savefig(directorio + f'Characteristic Lifetime vs Tau Semilog k = {k} seeds = {n_seeds} p_r = {p_recov} p_c = {p_create} fecha-{DAY}-{HOUR}:{MINUTE}.png')\n",
        "    plt.show()\n"
      ]
    },
    {
      "cell_type": "markdown",
      "metadata": {
        "id": "TpOfs19olxya"
      },
      "source": [
        "# ColorMap\n",
        "\n",
        "Prevalence in tau omega plane"
      ]
    },
    {
      "cell_type": "code",
      "execution_count": null,
      "metadata": {
        "id": "Z_Fvx-Dclxyb",
        "outputId": "97a3315e-8925-4b02-bb80-5ecc021cc08c"
      },
      "outputs": [
        {
          "data": {
            "image/png": "[encoded data removed]",
            "text/plain": [
              "<Figure size 800x600 with 2 Axes>"
            ]
          },
          "metadata": {},
          "output_type": "display_data"
        }
      ],
      "source": [
        "def plot_prevalence_heatmap(omega_values, taus, prevalence_per_omega,save=False):\n",
        "    \"\"\"\n",
        "    Plots a heatmap of prevalence values with omega on the y-axis, tau on the x-axis,\n",
        "    and colors representing prevalence values (0=blue, 0.5=yellow, 1=red).\n",
        "\n",
        "    Parameters:\n",
        "    omega_values (list): List of omega values for the y-axis.\n",
        "    taus (array): Array of tau values for the x-axis.\n",
        "    prevalence_per_omega (dict): Dictionary with omega as keys and prevalence values as lists for each tau.\n",
        "    \"\"\"\n",
        "    # Convert prevalence_per_omega to a 2D array\n",
        "    prevalence_data = np.array([prevalence_per_omega[omega] for omega in omega_values])\n",
        "\n",
        "    # Create a custom colormap (blue for 0, yellow for 0.5, red for 1)\n",
        "    cmap = LinearSegmentedColormap.from_list(\n",
        "        'prevalence_cmap',\n",
        "        [(0, '#91C483'), (0.5, '#FFE162'), (1, '#FF6464')]\n",
        "    )\n",
        "\n",
        "    # Plotting the prevalence heatmap\n",
        "    plt.figure(figsize=(8, 6))\n",
        "\n",
        "    # Use pcolormesh to plot the data\n",
        "    plt.pcolormesh(taus, omega_values, prevalence_data, cmap=cmap, shading='auto')\n",
        "\n",
        "    # Add color bar to the right\n",
        "    cbar = plt.colorbar()\n",
        "    cbar.set_label('Prevalence')\n",
        "\n",
        "    # Label axes\n",
        "    plt.xlabel('Tau')\n",
        "    plt.ylabel('Omega')\n",
        "\n",
        "    # Set title\n",
        "    plt.title(r'$\\bf{Prevalence\\ Heatmap}$'+f'\\n N = {N}, k = {k}, p_WS = {p_ws},\\n seeds = {n_seeds}, steps = {steps} p_rec = {p_recov}, p_crea = {p_create}.')\n",
        "\n",
        "    if save:  plt.savefig(directorio + f'Prevalence Heatmap N = {N} k = {k} fecha-{DAY}-{HOUR}:{MINUTE}.png')\n",
        "    # Show the plot\n",
        "    plt.show()\n",
        "\n"
      ]
    },
    {
      "cell_type": "markdown",
      "metadata": {
        "id": "CQwCdimqEdln"
      },
      "source": [
        "# MAIN PARALELL\n",
        "\n",
        "This is the Monte Carlo sampling for some taus and omega values.\n",
        "\n",
        "Set the best parameters you want for tau and omega values, number of seeds, and of steps."
      ]
    },
    {
      "cell_type": "code",
      "execution_count": null,
      "metadata": {
        "colab": {
          "base_uri": "https://localhost:8080/"
        },
        "id": "qksC-q_tEiXH",
        "outputId": "c37b8b51-e34a-462f-d6ae-03933288651f"
      },
      "outputs": [
        {
          "name": "stderr",
          "output_type": "stream",
          "text": [
            "/tmp/ipykernel_30388/3207395109.py:69: RuntimeWarning: invalid value encountered in true_divide\n",
            "  infected_just_endemic = np.where(n_endemic_states > 0, mean_infected_in_time / n_endemic_states, 0)\n",
            "/tmp/ipykernel_30388/3892655039.py:63: RuntimeWarning: divide by zero encountered in double_scalars\n",
            "  average_lifetime = -1 / slope\n"
          ]
        }
      ],
      "source": [
        "## Parameters for this cell\n",
        "\n",
        "max_tau = 5\n",
        "taus = np.linspace(0, max_tau, 50)  # tau_max = 1/p_recov\n",
        "average_lifetimes = []\n",
        "omega_values = np.linspace(0, 5, 20)\n",
        "n_seeds = 500\n",
        "steps = 2000\n",
        "\n",
        "# Storage for results\n",
        "average_lifetime_per_omega = {omega: [] for omega in omega_values}\n",
        "prevalence_per_omega = {omega: [] for omega in omega_values}\n",
        "std_prevalence_per_omega = {omega: [] for omega in omega_values}\n",
        "\n",
        "# Function to run for each seed\n",
        "def run_simulation_for_seed(seed, p_inf, p_break, steps, N, k, p_ws, infect_percent):\n",
        "    # Initialize graph\n",
        "    #thread = os.getpid()  # Prints the process ID running the task\n",
        "    seed_G = 0\n",
        "    G, G_base, status = initialize_graph(N, k, p_ws, infect_percent, seed_G)\n",
        "\n",
        "    # Epidemic simulation\n",
        "    infected_in_time = np.zeros(steps)\n",
        "\n",
        "    # Random array\n",
        "    np.random.seed(seed)\n",
        "    dim_ra = steps * N * (k + 1)\n",
        "    random_array = np.random.rand(dim_ra)\n",
        "    rand_idx = 0  # global index for random array\n",
        "\n",
        "    # Evolution of the network\n",
        "    for step in range(steps):\n",
        "        G, status,rand_idx = evolution_step(G, G_base, status, random_array,rand_idx)\n",
        "        infected_in_time[step] = np.sum(status)/N\n",
        "        if infected_in_time[step] == 0:\n",
        "            break\n",
        "\n",
        "    life_time = step_healty(infected_in_time)\n",
        "\n",
        "    return infected_in_time, life_time #, thread ##import os\n",
        "\n",
        "# Monte Carlo Simulation\n",
        "for omega in omega_values:\n",
        "    p_break = omega * p_create  # Adjust p_break based on omega, p_create constant\n",
        "    average_lifetime_vs_tau = []\n",
        "    prevalence_vs_tau = []\n",
        "    std_prevalence_vs_tau = []\n",
        "\n",
        "    for tau in taus:\n",
        "        p_inf = tau * p_recov  # Adjust p_inf based on tau, p_recov is constant\n",
        "        sum_infected_in_time = np.zeros(steps)  # To sum infected_in_time of each seed\n",
        "        life_times = np.zeros(n_seeds)  # Array to store life times for each seed\n",
        "\n",
        "        # Parallelize the Monte Carlo sampling over seeds\n",
        "        results = Parallel(n_jobs=-1)(delayed(run_simulation_for_seed)(seed, p_inf, p_break, steps, N, k, p_ws, infect_percent) for seed in range(n_seeds))\n",
        "\n",
        "        # Collect results from parallel execution\n",
        "        for seed_idx, (infected_in_time, life_time) in enumerate(results):\n",
        "            sum_infected_in_time += infected_in_time\n",
        "            life_times[seed_idx] = life_time\n",
        "            #del infected_in_time\n",
        "            #print(f\"Seed {seed_idx} ran on thread {thread}\")\n",
        "\n",
        "        # Calculate endemic states and average lifetime\n",
        "        n_endemic_states = endemic_vs_time(life_times, steps, n_seeds, plot=False, save=False, tau=tau, omega=omega)\n",
        "        average_lifetime = calculate_average_lifetime(n_endemic_states, plot=False)\n",
        "        average_lifetime_vs_tau.append(average_lifetime)\n",
        "\n",
        "        # Calculate infected just endemic phase\n",
        "        mean_infected_in_time = sum_infected_in_time / n_seeds\n",
        "        infected_just_endemic = np.where(n_endemic_states > 0, mean_infected_in_time / n_endemic_states, 0)\n",
        "\n",
        "        # Calculate prevalence and standard deviation\n",
        "        mean_infected, std_dev_infected = find_prevalence(infected_just_endemic, n_endemic_states, n_seeds, plot=False)\n",
        "        prevalence_vs_tau.append(mean_infected)\n",
        "        std_prevalence_vs_tau.append(std_dev_infected)\n",
        "\n",
        "    # Store the results for this omega\n",
        "    average_lifetime_per_omega[omega] = average_lifetime_vs_tau\n",
        "    prevalence_per_omega[omega] = prevalence_vs_tau\n",
        "    std_prevalence_per_omega[omega] = std_prevalence_vs_tau\n"
      ]
    },
    {
      "cell_type": "markdown",
      "source": [
        "## Ploting"
      ],
      "metadata": {
        "id": "rgw8OHVIrRxn"
      }
    },
    {
      "cell_type": "code",
      "execution_count": null,
      "metadata": {
        "id": "oAFsZD43lxyc"
      },
      "outputs": [],
      "source": [
        "plot_prevalence_heatmap(omega_values, taus, prevalence_per_omega)#,save=True)"
      ]
    },
    {
      "cell_type": "code",
      "source": [
        "plot_average_lifetime_vs_tau(taus, average_lifetime_per_omega,n_seeds)#,save=True)"
      ],
      "metadata": {
        "id": "xC7HxjGXreUZ"
      },
      "execution_count": null,
      "outputs": []
    },
    {
      "cell_type": "code",
      "source": [
        "plot_prevalence_vs_tau(taus,prevalence_per_omega,std_prevalence_per_omega, n_seeds)#,save=True)"
      ],
      "metadata": {
        "id": "5io6zXXRrhw3"
      },
      "execution_count": null,
      "outputs": []
    },
    {
      "cell_type": "markdown",
      "metadata": {
        "id": "9yCtyUxrlxyc"
      },
      "source": [
        "# Saving on pkl\n",
        "\n",
        "To save arrays. Still have issues"
      ]
    },
    {
      "cell_type": "code",
      "execution_count": null,
      "metadata": {
        "id": "XcY6APxClxyd"
      },
      "outputs": [],
      "source": [
        "import pickle\n",
        "\n",
        "def save_results(filename, average_lifetime_per_omega, prevalence_per_omega, std_prevalence_per_omega):\n",
        "    \"\"\"\n",
        "    Saves the final arrays to a file using pickle.\n",
        "\n",
        "    Parameters:\n",
        "    filename (str): The file path to save the arrays.\n",
        "    average_lifetime_per_omega (dict): Dictionary containing average lifetime values.\n",
        "    prevalence_per_omega (dict): Dictionary containing prevalence values.\n",
        "    std_prevalence_per_omega (dict): Dictionary containing standard deviation of prevalence values.\n",
        "    \"\"\"\n",
        "    with open(filename, 'wb') as f:\n",
        "        pickle.dump({\n",
        "            'average_lifetime_per_omega': average_lifetime_per_omega,\n",
        "            'prevalence_per_omega': prevalence_per_omega,\n",
        "            'std_prevalence_per_omega': std_prevalence_per_omega\n",
        "        }, f)\n",
        "    print(f\"Results saved to {filename}\")\n",
        "\n",
        "def load_results(filename):\n",
        "    \"\"\"\n",
        "    Loads the saved arrays from a file using pickle.\n",
        "\n",
        "    Parameters:\n",
        "    filename (str): The file path to load the arrays from.\n",
        "\n",
        "    Returns:\n",
        "    tuple: A tuple containing (average_lifetime_per_omega, prevalence_per_omega, std_prevalence_per_omega)\n",
        "    \"\"\"\n",
        "    with open(filename, 'rb') as f:\n",
        "        data = pickle.load(f)\n",
        "\n",
        "    print(f\"Results loaded from {filename}\")\n",
        "    return data['average_lifetime_per_omega'], data['prevalence_per_omega'], data['std_prevalence_per_omega']\n"
      ]
    },
    {
      "cell_type": "code",
      "execution_count": null,
      "metadata": {
        "id": "GsodhPlNlxyd",
        "outputId": "fd77d2de-49a8-4628-e31b-3f508ba8af57"
      },
      "outputs": [
        {
          "name": "stdout",
          "output_type": "stream",
          "text": [
            "/home/hgutierrez/Documents/Results N = 20, k = 4, 100p_WS = 5, 10max_tau = 50, seeds = 500, steps = 2000, 100p_rec = 20, 100p_crea = 20 fecha-6-11:24.pkl\n",
            "Results saved to /home/hgutierrez/Documents/Results N = 20, k = 4, 100p_WS = 5, 10max_tau = 50, seeds = 500, steps = 2000, 100p_rec = 20, 100p_crea = 20 fecha-6-11:24.pkl\n"
          ]
        }
      ],
      "source": [
        "filename = directorio+ f'Results N = {N}, k = {k}, 100p_WS = {int(p_ws*100)}, 10max_tau = {int(max_tau*10)}, seeds = {n_seeds}, steps = {steps}, 100p_rec = {int(p_recov*100)}, 100p_crea = {int(p_create*100)} fecha-{DAY}-{HOUR}:{MINUTE}.pkl'\n",
        "print(filename)\n",
        "# After running the simulation and getting the final results\n",
        "save_results(filename, average_lifetime_per_omega, prevalence_per_omega, std_prevalence_per_omega)\n"
      ]
    },
    {
      "cell_type": "code",
      "execution_count": null,
      "metadata": {
        "id": "b5nxLr1Mlxye",
        "outputId": "a7340cd5-087a-47fc-82d5-45d28aa24429"
      },
      "outputs": [
        {
          "ename": "FileNotFoundError",
          "evalue": "[Errno 2] No such file or directory: '/home/hgutierrez/Documents/1Results N = 20, k = 4, 100p_WS = 20 seeds = 500, steps = 2000 100p_rec = 20, 100p_crea = 20'",
          "output_type": "error",
          "traceback": [
            "\u001b[0;31m---------------------------------------------------------------------------\u001b[0m",
            "\u001b[0;31mFileNotFoundError\u001b[0m                         Traceback (most recent call last)",
            "\u001b[1;32m/home/hgutierrez/Downloads/Paralell_GPU_Código_principal.ipynb Cell 30'\u001b[0m in \u001b[0;36m<cell line: 6>\u001b[0;34m()\u001b[0m\n\u001b[1;32m      <a href='vscode-notebook-cell:/home/hgutierrez/Downloads/Paralell_GPU_C%C3%B3digo_principal.ipynb#ch0000032?line=1'>2</a>\u001b[0m filename \u001b[39m=\u001b[39m directorio\u001b[39m+\u001b[39m \u001b[39mf\u001b[39m\u001b[39m'\u001b[39m\u001b[39m1Results N = 20, k = 4, 100p_WS = 20 seeds = 500, steps = 2000 100p_rec = 20, 100p_crea = 20\u001b[39m\u001b[39m'\u001b[39m\n\u001b[1;32m      <a href='vscode-notebook-cell:/home/hgutierrez/Downloads/Paralell_GPU_C%C3%B3digo_principal.ipynb#ch0000032?line=2'>3</a>\u001b[0m \u001b[39m#filename = directorio+ f'Results N = 20, k = 4, 100p_WS = 20, 10max_tau = 50 seeds = 500, steps = 2000 100p_rec = 20, 100p_crea = 20.pkl'\u001b[39;00m\n\u001b[1;32m      <a href='vscode-notebook-cell:/home/hgutierrez/Downloads/Paralell_GPU_C%C3%B3digo_principal.ipynb#ch0000032?line=3'>4</a>\u001b[0m \n\u001b[1;32m      <a href='vscode-notebook-cell:/home/hgutierrez/Downloads/Paralell_GPU_C%C3%B3digo_principal.ipynb#ch0000032?line=4'>5</a>\u001b[0m \u001b[39m# To load the results from the saved file later\u001b[39;00m\n\u001b[0;32m----> <a href='vscode-notebook-cell:/home/hgutierrez/Downloads/Paralell_GPU_C%C3%B3digo_principal.ipynb#ch0000032?line=5'>6</a>\u001b[0m fn_average_lifetime_per_omega, fn_prevalence_per_omega, fn_std_prevalence_per_omega \u001b[39m=\u001b[39m load_results(filename)\n\u001b[1;32m      <a href='vscode-notebook-cell:/home/hgutierrez/Downloads/Paralell_GPU_C%C3%B3digo_principal.ipynb#ch0000032?line=6'>7</a>\u001b[0m plot_prevalence_heatmap(omega_values, taus, fn_prevalence_per_omega)\n",
            "\u001b[1;32m/home/hgutierrez/Downloads/Paralell_GPU_Código_principal.ipynb Cell 28'\u001b[0m in \u001b[0;36mload_results\u001b[0;34m(filename)\u001b[0m\n\u001b[1;32m     <a href='vscode-notebook-cell:/home/hgutierrez/Downloads/Paralell_GPU_C%C3%B3digo_principal.ipynb#ch0000029?line=20'>21</a>\u001b[0m \u001b[39mdef\u001b[39;00m \u001b[39mload_results\u001b[39m(filename):\n\u001b[1;32m     <a href='vscode-notebook-cell:/home/hgutierrez/Downloads/Paralell_GPU_C%C3%B3digo_principal.ipynb#ch0000029?line=21'>22</a>\u001b[0m     \u001b[39m\"\"\"\u001b[39;00m\n\u001b[1;32m     <a href='vscode-notebook-cell:/home/hgutierrez/Downloads/Paralell_GPU_C%C3%B3digo_principal.ipynb#ch0000029?line=22'>23</a>\u001b[0m \u001b[39m    Loads the saved arrays from a file using pickle.\u001b[39;00m\n\u001b[1;32m     <a href='vscode-notebook-cell:/home/hgutierrez/Downloads/Paralell_GPU_C%C3%B3digo_principal.ipynb#ch0000029?line=23'>24</a>\u001b[0m \n\u001b[0;32m   (...)\u001b[0m\n\u001b[1;32m     <a href='vscode-notebook-cell:/home/hgutierrez/Downloads/Paralell_GPU_C%C3%B3digo_principal.ipynb#ch0000029?line=28'>29</a>\u001b[0m \u001b[39m    tuple: A tuple containing (average_lifetime_per_omega, prevalence_per_omega, std_prevalence_per_omega)\u001b[39;00m\n\u001b[1;32m     <a href='vscode-notebook-cell:/home/hgutierrez/Downloads/Paralell_GPU_C%C3%B3digo_principal.ipynb#ch0000029?line=29'>30</a>\u001b[0m \u001b[39m    \"\"\"\u001b[39;00m\n\u001b[0;32m---> <a href='vscode-notebook-cell:/home/hgutierrez/Downloads/Paralell_GPU_C%C3%B3digo_principal.ipynb#ch0000029?line=30'>31</a>\u001b[0m     \u001b[39mwith\u001b[39;00m \u001b[39mopen\u001b[39;49m(filename, \u001b[39m'\u001b[39;49m\u001b[39mrb\u001b[39;49m\u001b[39m'\u001b[39;49m) \u001b[39mas\u001b[39;00m f:\n\u001b[1;32m     <a href='vscode-notebook-cell:/home/hgutierrez/Downloads/Paralell_GPU_C%C3%B3digo_principal.ipynb#ch0000029?line=31'>32</a>\u001b[0m         data \u001b[39m=\u001b[39m pickle\u001b[39m.\u001b[39mload(f)\n\u001b[1;32m     <a href='vscode-notebook-cell:/home/hgutierrez/Downloads/Paralell_GPU_C%C3%B3digo_principal.ipynb#ch0000029?line=33'>34</a>\u001b[0m     \u001b[39mprint\u001b[39m(\u001b[39mf\u001b[39m\u001b[39m\"\u001b[39m\u001b[39mResults loaded from \u001b[39m\u001b[39m{\u001b[39;00mfilename\u001b[39m}\u001b[39;00m\u001b[39m\"\u001b[39m)\n",
            "\u001b[0;31mFileNotFoundError\u001b[0m: [Errno 2] No such file or directory: '/home/hgutierrez/Documents/1Results N = 20, k = 4, 100p_WS = 20 seeds = 500, steps = 2000 100p_rec = 20, 100p_crea = 20'"
          ]
        }
      ],
      "source": [
        "####  NAMES\n",
        "#filename = directorio+ f'Results N = 20, k = 4, 100p_WS = 20, 10max_tau = 50 seeds = 500, steps = 2000 100p_rec = 20, 100p_crea = 20.pkl'\n",
        "\n",
        "# To load the results from the saved file later\n",
        "fn_average_lifetime_per_omega, fn_prevalence_per_omega, fn_std_prevalence_per_omega = load_results(filename)\n",
        "plot_prevalence_heatmap(omega_values, taus, fn_prevalence_per_omega)"
      ]
    }
  ],
  "metadata": {
    "colab": {
      "collapsed_sections": [
        "d7E6hdDZffLb",
        "Z00feGMWZwYo",
        "6RClyNQMPdNi",
        "s7UJsFJ1ANAh",
        "7x7H5Lq3QmP6",
        "qpznx4yJXa_n",
        "8DfCf22a1T40",
        "yN-DFusapAst",
        "TpOfs19olxya",
        "9yCtyUxrlxyc"
      ],
      "provenance": []
    },
    "kernelspec": {
      "display_name": "Python 3",
      "name": "python3"
    },
    "language_info": {
      "codemirror_mode": {
        "name": "ipython",
        "version": 3
      },
      "file_extension": ".py",
      "mimetype": "text/x-python",
      "name": "python",
      "nbconvert_exporter": "python",
      "pygments_lexer": "ipython3",
      "version": "3.9.16"
    }
  },
  "nbformat": 4,
  "nbformat_minor": 0
}